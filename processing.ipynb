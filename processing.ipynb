{
 "cells": [
  {
   "cell_type": "markdown",
   "metadata": {},
   "source": [
    "# Data Processing\n",
    "\n",
    "## Remove Rows and Sample Randomly\n",
    "\n",
    "We will now drop any rows that are irrelevant to us and save it to a CSV file."
   ]
  },
  {
   "cell_type": "code",
   "execution_count": null,
   "metadata": {},
   "outputs": [],
   "source": [
    "import pandas as pd\n",
    "\n",
    "df = pd.read_csv('data/Books_rating.csv')\n",
    "\n",
    "# preserve relevant columns and rename for ease of access\n",
    "df = df[['review/summary', 'review/text', 'review/score']]\n",
    "df.columns = ['summary', 'text', 'score']\n",
    "\n",
    "# sample a portion of the data\n",
    "n = 250000\n",
    "df = df.sample(n=n, random_state=1)\n",
    "\n",
    "# save to new csv file and view data\n",
    "df.to_csv('data/Books_rating_relevant_columns.csv', index=False)\n",
    "df.head()"
   ]
  },
  {
   "cell_type": "markdown",
   "metadata": {},
   "source": [
    "## Stopwords, Lemmatization, and Vectorization\n",
    "\n",
    "Process the text to remove stopwords, lemmatize, strip unneeded characters, then vectorize."
   ]
  },
  {
   "cell_type": "code",
   "execution_count": null,
   "metadata": {},
   "outputs": [],
   "source": [
    "from nltk.stem import WordNetLemmatizer\n",
    "from nltk.corpus import stopwords\n",
    "from nltk.tokenize import word_tokenize\n",
    "import re\n",
    "from tqdm import tqdm\n",
    "\n",
    "tqdm.pandas()"
   ]
  },
  {
   "cell_type": "code",
   "execution_count": null,
   "metadata": {},
   "outputs": [],
   "source": [
    "lemmatizer = WordNetLemmatizer()\n",
    "stopwords = set(stopwords.words('english'))\n",
    "\n",
    "\n",
    "def stemmer(text):\n",
    "    if text != text:\n",
    "        return ''\n",
    "\n",
    "    # clean the text\n",
    "    text = re.sub(r'[^a-zA-Z0-9]', ' ', text)\n",
    "    text = re.sub(' +', ' ', text)\n",
    "    text = text.lower()\n",
    "\n",
    "    # tokenize and remove stopwords\n",
    "    tokens = word_tokenize(text)\n",
    "    tokens = [w for w in tokens if not w in stopwords]\n",
    "    tokens = [lemmatizer.lemmatize(w) for w in tokens]\n",
    "    text = ' '.join(tokens)\n",
    "\n",
    "    return text"
   ]
  },
  {
   "cell_type": "code",
   "execution_count": null,
   "metadata": {},
   "outputs": [],
   "source": [
    "df = pd.read_csv('data/Books_rating_relevant_columns.csv')\n",
    "\n",
    "# apply stemmer to text\n",
    "df['stemmed_text'] = df['text'].progress_apply(stemmer)\n",
    "df['stemmed_summary'] = df['summary'].progress_apply(stemmer)\n",
    "df['stemmed_summary_text'] = df['stemmed_summary'] + ' ' + df['stemmed_text']\n",
    "\n",
    "# remove trailing spaces\n",
    "df['stemmed_summary_text'] = df['stemmed_summary_text'].progress_apply(\n",
    "    lambda x: x.strip())\n",
    "\n",
    "# clean up NaN and remove empty rows\n",
    "df.fillna('', inplace=True)\n",
    "df = df[df['stemmed_summary_text'] != '']\n",
    "\n",
    "# drop unused columns\n",
    "df.drop(columns=['text', 'summary', 'stemmed_summary',\n",
    "        'stemmed_text'], inplace=True)\n",
    "\n",
    "# save to new csv file and view the data\n",
    "df.to_csv('data/Books_rating_stemmed.csv', index=False)\n",
    "df.head()"
   ]
  },
  {
   "cell_type": "markdown",
   "metadata": {},
   "source": [
    "## Vectorizing\n",
    "\n",
    "Vectorize the text using TF-IDF."
   ]
  },
  {
   "cell_type": "code",
   "execution_count": null,
   "metadata": {},
   "outputs": [],
   "source": [
    "import pandas as pd\n",
    "from sklearn.feature_extraction.text import TfidfVectorizer\n",
    "from sklearn.model_selection import train_test_split\n",
    "import pickle\n",
    "\n",
    "tqdm.pandas()"
   ]
  },
  {
   "cell_type": "code",
   "execution_count": null,
   "metadata": {},
   "outputs": [],
   "source": [
    "df = pd.read_csv('data/Books_rating_stemmed.csv')\n",
    "print(f'Shape of dataframe: {df.shape}')\n",
    "\n",
    "# create train and test sets\n",
    "X_train, X_test, y_train, y_test = train_test_split(df['stemmed_summary_text'], df['score'], test_size=0.2, random_state=1)\n",
    "\n",
    "# init the vectorizer and fit on the training set\n",
    "vectorizer = TfidfVectorizer(max_features=30_000, sublinear_tf=True)\n",
    "vectorizer.fit(X_train)\n",
    "\n",
    "# transform training and test sets\n",
    "X_train = vectorizer.transform(X_train)\n",
    "X_test = vectorizer.transform(X_test)\n",
    "\n",
    "# get shape of training and test sets\n",
    "print(f'Shape of training set: {X_train.shape}')\n",
    "print(f'Shape of testing set: {X_test.shape}')\n",
    "\n",
    "# save vectorizer to disk\n",
    "pickle.dump(vectorizer, open('models/vectorizer.pkl', 'wb'))\n",
    "print('Vectorizer saved!')"
   ]
  },
  {
   "cell_type": "markdown",
   "metadata": {},
   "source": [
    "## Model Testing\n",
    "\n",
    "First testing different kinds of models, then further testing with hyperparameters."
   ]
  },
  {
   "cell_type": "code",
   "execution_count": 13,
   "metadata": {},
   "outputs": [],
   "source": [
    "import matplotlib.pyplot as plt\n",
    "from sklearn.metrics import accuracy_score, classification_report\n",
    "from sklearn.naive_bayes import MultinomialNB\n",
    "from sklearn.linear_model import LogisticRegression\n",
    "from sklearn.svm import LinearSVC"
   ]
  },
  {
   "cell_type": "code",
   "execution_count": 15,
   "metadata": {},
   "outputs": [
    {
     "name": "stdout",
     "output_type": "stream",
     "text": [
      "Classification Report for MultinomialNB:\n",
      "              precision    recall  f1-score   support\n",
      "\n",
      "         1.0       0.78      0.14      0.23      3374\n",
      "         2.0       0.53      0.01      0.02      2559\n",
      "         3.0       0.36      0.01      0.02      4218\n",
      "         4.0       0.34      0.04      0.08      9769\n",
      "         5.0       0.62      0.99      0.76     30080\n",
      "\n",
      "    accuracy                           0.61     50000\n",
      "   macro avg       0.53      0.24      0.22     50000\n",
      "weighted avg       0.55      0.61      0.49     50000\n",
      "\n"
     ]
    },
    {
     "name": "stderr",
     "output_type": "stream",
     "text": [
      "/Users/dcmag/Documents/GitRepos/cs505-final-project/venv/lib/python3.9/site-packages/sklearn/linear_model/_logistic.py:460: ConvergenceWarning: lbfgs failed to converge (status=1):\n",
      "STOP: TOTAL NO. of ITERATIONS REACHED LIMIT.\n",
      "\n",
      "Increase the number of iterations (max_iter) or scale the data as shown in:\n",
      "    https://scikit-learn.org/stable/modules/preprocessing.html\n",
      "Please also refer to the documentation for alternative solver options:\n",
      "    https://scikit-learn.org/stable/modules/linear_model.html#logistic-regression\n",
      "  n_iter_i = _check_optimize_result(\n",
      "/Users/dcmag/Documents/GitRepos/cs505-final-project/venv/lib/python3.9/site-packages/sklearn/svm/_classes.py:32: FutureWarning: The default value of `dual` will change from `True` to `'auto'` in 1.5. Set the value of `dual` explicitly to suppress the warning.\n",
      "  warnings.warn(\n"
     ]
    },
    {
     "name": "stdout",
     "output_type": "stream",
     "text": [
      "Classification Report for LogisticRegression:\n",
      "              precision    recall  f1-score   support\n",
      "\n",
      "         1.0       0.62      0.55      0.58      3374\n",
      "         2.0       0.40      0.20      0.26      2559\n",
      "         3.0       0.44      0.27      0.33      4218\n",
      "         4.0       0.45      0.28      0.35      9769\n",
      "         5.0       0.75      0.92      0.83     30080\n",
      "\n",
      "    accuracy                           0.68     50000\n",
      "   macro avg       0.53      0.44      0.47     50000\n",
      "weighted avg       0.64      0.68      0.65     50000\n",
      "\n",
      "Classification Report for LinearSVC:\n",
      "              precision    recall  f1-score   support\n",
      "\n",
      "         1.0       0.61      0.56      0.58      3374\n",
      "         2.0       0.37      0.20      0.26      2559\n",
      "         3.0       0.41      0.25      0.31      4218\n",
      "         4.0       0.42      0.28      0.33      9769\n",
      "         5.0       0.75      0.91      0.82     30080\n",
      "\n",
      "    accuracy                           0.67     50000\n",
      "   macro avg       0.51      0.44      0.46     50000\n",
      "weighted avg       0.63      0.67      0.64     50000\n",
      "\n"
     ]
    },
    {
     "data": {
      "image/png": "[encoded data removed]",
      "text/plain": [
       "<Figure size 640x480 with 1 Axes>"
      ]
     },
     "metadata": {},
     "output_type": "display_data"
    }
   ],
   "source": [
    "# Create a dictionary to store model instances\n",
    "models = {\n",
    "    'MultinomialNB': MultinomialNB(),\n",
    "    'LogisticRegression': LogisticRegression(),\n",
    "    'LinearSVC': LinearSVC()\n",
    "}\n",
    "\n",
    "# Create lists to store model names and accuracies for plotting\n",
    "model_names = []\n",
    "accuracies = []\n",
    "\n",
    "# Iterate through models\n",
    "for name, model in models.items():\n",
    "    # Fit the model\n",
    "    model.fit(X_train, y_train)\n",
    "    \n",
    "    # Predict on the test set\n",
    "    y_pred = model.predict(X_test)\n",
    "    \n",
    "    # Calculate accuracy\n",
    "    accuracy = accuracy_score(y_test, y_pred)\n",
    "    \n",
    "    # Print classification report for more detailed metrics\n",
    "    print(f\"Classification Report for {name}:\")\n",
    "    print(classification_report(y_test, y_pred))\n",
    "    \n",
    "    # Store model name and accuracy for plotting\n",
    "    model_names.append(name)\n",
    "    accuracies.append(accuracy)\n",
    "\n",
    "# Plotting accuracies\n",
    "plt.bar(model_names, accuracies)\n",
    "plt.xlabel('Models')\n",
    "plt.ylabel('Accuracy')\n",
    "plt.title('Model Accuracies')\n",
    "plt.show()"
   ]
  },
  {
   "cell_type": "markdown",
   "metadata": {},
   "source": [
    "At this point we decided to further test the LogisticRegression and LinearSVC since the Naive Bayes did not produce favorable results."
   ]
  },
  {
   "cell_type": "markdown",
   "metadata": {},
   "source": [
    "### Logistic Regression"
   ]
  },
  {
   "cell_type": "markdown",
   "metadata": {},
   "source": [
    "### LinearSVC"
   ]
  }
 ],
 "metadata": {
  "kernelspec": {
   "display_name": "Python 3",
   "language": "python",
   "name": "python3"
  },
  "language_info": {
   "codemirror_mode": {
    "name": "ipython",
    "version": 3
   },
   "file_extension": ".py",
   "mimetype": "text/x-python",
   "name": "python",
   "nbconvert_exporter": "python",
   "pygments_lexer": "ipython3",
   "version": "3.9.6"
  }
 },
 "nbformat": 4,
 "nbformat_minor": 2
}
